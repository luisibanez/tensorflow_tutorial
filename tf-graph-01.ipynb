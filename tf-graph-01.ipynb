{
 "cells": [
  {
   "cell_type": "code",
   "execution_count": 1,
   "metadata": {
    "collapsed": false
   },
   "outputs": [],
   "source": [
    "import tensorflow as tf"
   ]
  },
  {
   "cell_type": "code",
   "execution_count": 2,
   "metadata": {
    "collapsed": false
   },
   "outputs": [],
   "source": [
    "g = tf.Graph()"
   ]
  },
  {
   "cell_type": "code",
   "execution_count": 3,
   "metadata": {
    "collapsed": false
   },
   "outputs": [
    {
     "name": "stdout",
     "output_type": "stream",
     "text": [
      "Sum1 =  [13]\n",
      "Sum2 =  [20]\n"
     ]
    }
   ],
   "source": [
    "with g.as_default():\n",
    "    \n",
    "    x = tf.constant([8], name=\"x_const\")\n",
    "    y = tf.constant([5], name=\"y_const\")\n",
    "    sum1 = tf.add(x, y, name=\"x_y_sum\")\n",
    "        \n",
    "    z = tf.constant([7], name=\"z_const\")\n",
    "    sum2 = tf.add(z, sum1, name=\"x_y_z_sum\")\n",
    "\n",
    "    with tf.Session() as sess:\n",
    "        print('Sum1 = ', sum1.eval())\n",
    "        print('Sum2 = ', sum2.eval())"
   ]
  },
  {
   "cell_type": "code",
   "execution_count": null,
   "metadata": {
    "collapsed": false
   },
   "outputs": [],
   "source": []
  }
 ],
 "metadata": {
  "kernelspec": {
   "display_name": "Python 3",
   "language": "python",
   "name": "python3"
  },
  "language_info": {
   "codemirror_mode": {
    "name": "ipython",
    "version": 3
   },
   "file_extension": ".py",
   "mimetype": "text/x-python",
   "name": "python",
   "nbconvert_exporter": "python",
   "pygments_lexer": "ipython3",
   "version": "3.5.1"
  }
 },
 "nbformat": 4,
 "nbformat_minor": 0
}
