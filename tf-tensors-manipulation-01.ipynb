{
 "cells": [
  {
   "cell_type": "markdown",
   "metadata": {},
   "source": [
    "# Manipulating Tensors"
   ]
  },
  {
   "cell_type": "code",
   "execution_count": 1,
   "metadata": {
    "collapsed": false
   },
   "outputs": [],
   "source": [
    "import tensorflow as tf"
   ]
  },
  {
   "cell_type": "markdown",
   "metadata": {},
   "source": [
    "# Vector Addition"
   ]
  },
  {
   "cell_type": "code",
   "execution_count": 2,
   "metadata": {
    "collapsed": false
   },
   "outputs": [
    {
     "name": "stdout",
     "output_type": "stream",
     "text": [
      "[2 2 3 4 6 9]\n"
     ]
    }
   ],
   "source": [
    "with tf.Graph().as_default():\n",
    "    fibonacci = tf.constant([1, 1, 2, 3, 5, 8], dtype=tf.int32)\n",
    "    ones = tf.ones([6], dtype=tf.int32)\n",
    "    beyond_fibonacci = tf.add(fibonacci, ones)\n",
    "    \n",
    "    with tf.Session() as sess:\n",
    "        print(beyond_fibonacci.eval())"
   ]
  },
  {
   "cell_type": "markdown",
   "metadata": {},
   "source": [
    "# Tensor Shapes"
   ]
  },
  {
   "cell_type": "code",
   "execution_count": 3,
   "metadata": {
    "collapsed": false
   },
   "outputs": [
    {
     "name": "stdout",
     "output_type": "stream",
     "text": [
      "scalar has shape () and value: \n",
      " 0.0\n",
      "vector has shape (3,) and value: \n",
      " [ 0.  0.  0.]\n",
      "matrix has shape (2, 3) and value: \n",
      " [[ 0.  0.  0.]\n",
      " [ 0.  0.  0.]]\n"
     ]
    }
   ],
   "source": [
    "with tf.Graph().as_default():\n",
    "    scalar = tf.zeros([])\n",
    "    vector = tf.zeros([3])\n",
    "    matrix = tf.zeros([2,3])\n",
    "    \n",
    "    with tf.Session() as sess:\n",
    "        print('scalar has shape', scalar.get_shape(), 'and value: \\n', scalar.eval())\n",
    "        print('vector has shape', vector.get_shape(), 'and value: \\n', vector.eval())\n",
    "        print('matrix has shape', matrix.get_shape(), 'and value: \\n', matrix.eval())"
   ]
  },
  {
   "cell_type": "markdown",
   "metadata": {},
   "source": [
    "# Broadcasting"
   ]
  },
  {
   "cell_type": "code",
   "execution_count": 4,
   "metadata": {
    "collapsed": false
   },
   "outputs": [
    {
     "name": "stdout",
     "output_type": "stream",
     "text": [
      "[2 2 3 4 6 9]\n"
     ]
    }
   ],
   "source": [
    "with tf.Graph().as_default():\n",
    "    fibonacci = tf.constant([1, 1, 2, 3, 5, 8], dtype=tf.int32)\n",
    "    ones = tf.ones(1, dtype=tf.int32)\n",
    "    beyond_fibonacci = tf.add(fibonacci, ones)\n",
    "    \n",
    "    with tf.Session() as sess:\n",
    "        print(beyond_fibonacci.eval())"
   ]
  },
  {
   "cell_type": "markdown",
   "metadata": {},
   "source": [
    "# Matrix Multiplication"
   ]
  },
  {
   "cell_type": "code",
   "execution_count": 5,
   "metadata": {
    "collapsed": false
   },
   "outputs": [
    {
     "name": "stdout",
     "output_type": "stream",
     "text": [
      "[[35 58]\n",
      " [35 33]\n",
      " [ 1 -4]]\n"
     ]
    }
   ],
   "source": [
    "with tf.Graph().as_default():\n",
    "    x = tf.constant([[5, 2, 4, 3], [5, 1, 6, -2], [-1, 3, -1, -2]], dtype=tf.int32)\n",
    "    y = tf.constant([[2, 2], [3, 5], [4, 5], [1, 6]], dtype=tf.int32)\n",
    "    xy = tf.matmul(x, y)\n",
    "    \n",
    "    with tf.Session() as sess:\n",
    "        print(xy.eval())"
   ]
  },
  {
   "cell_type": "markdown",
   "metadata": {},
   "source": [
    "# Tensor Reshaping"
   ]
  },
  {
   "cell_type": "code",
   "execution_count": 6,
   "metadata": {
    "collapsed": false
   },
   "outputs": [
    {
     "name": "stdout",
     "output_type": "stream",
     "text": [
      "a [5 2 4 3]\n",
      "b [[5 2]\n",
      " [4 3]]\n",
      "c [[5]\n",
      " [2]\n",
      " [4]\n",
      " [3]]\n"
     ]
    }
   ],
   "source": [
    "with tf.Graph().as_default():\n",
    "    a = tf.constant([5, 2, 4, 3], dtype=tf.int32)\n",
    "    b = tf.reshape(a, [2, 2])\n",
    "    c = tf.reshape(b, [4, 1])\n",
    "    \n",
    "    with tf.Session() as sess:\n",
    "        print('a', a.eval())\n",
    "        print('b', b.eval())\n",
    "        print('c', c.eval())"
   ]
  },
  {
   "cell_type": "code",
   "execution_count": 7,
   "metadata": {
    "collapsed": false
   },
   "outputs": [
    {
     "name": "stdout",
     "output_type": "stream",
     "text": [
      "a shape (6,) value \n",
      " [5 3 2 7 1 4] \n",
      "\n",
      "b shape (3,) value \n",
      " [4 6 3] \n",
      "\n",
      "c shape (2, 3) value \n",
      " [[5 3 2]\n",
      " [7 1 4]] \n",
      "\n",
      "d shape (3, 1) value \n",
      " [[4]\n",
      " [6]\n",
      " [3]] \n",
      "\n",
      "cd shape (2, 1) value \n",
      " [[44]\n",
      " [46]] \n",
      "\n"
     ]
    }
   ],
   "source": [
    "with tf.Graph().as_default():\n",
    "    a = tf.constant([5, 3, 2, 7, 1, 4])\n",
    "    b = tf.constant([4, 6, 3])\n",
    "    \n",
    "    c = tf.reshape(a, [2, 3])\n",
    "    d = tf.reshape(b, [3, 1])\n",
    "    \n",
    "    cd = tf.matmul(c, d)\n",
    "    \n",
    "    with tf.Session() as sess:\n",
    "        print('a shape', a.get_shape(), 'value \\n', a.eval(), '\\n')\n",
    "        print('b shape', b.get_shape(), 'value \\n', b.eval(), '\\n')\n",
    "        print('c shape', c.get_shape(), 'value \\n', c.eval(), '\\n')\n",
    "        print('d shape', d.get_shape(), 'value \\n', d.eval(), '\\n')\n",
    "        print('cd shape', cd.get_shape(), 'value \\n', cd.eval(), '\\n')"
   ]
  },
  {
   "cell_type": "markdown",
   "metadata": {},
   "source": [
    "# Variables, Initialization and Assignment"
   ]
  },
  {
   "cell_type": "code",
   "execution_count": 8,
   "metadata": {
    "collapsed": false
   },
   "outputs": [],
   "source": [
    "g = tf.Graph()"
   ]
  },
  {
   "cell_type": "code",
   "execution_count": 9,
   "metadata": {
    "collapsed": false
   },
   "outputs": [],
   "source": [
    "with g.as_default():\n",
    "    v = tf.Variable([3])\n",
    "    w = tf.Variable(tf.random_normal([1], mean=1.0, stddev=0.35))"
   ]
  },
  {
   "cell_type": "code",
   "execution_count": 10,
   "metadata": {
    "collapsed": false
   },
   "outputs": [
    {
     "name": "stdout",
     "output_type": "stream",
     "text": [
      "Caught expected error Attempting to use uninitialized value Variable\n",
      "\t [[Node: _send_Variable_0 = _Send[T=DT_INT32, client_terminated=true, recv_device=\"/job:localhost/replica:0/task:0/cpu:0\", send_device=\"/job:localhost/replica:0/task:0/cpu:0\", send_device_incarnation=2478810599013884250, tensor_name=\"Variable:0\", _device=\"/job:localhost/replica:0/task:0/cpu:0\"](Variable)]]\n"
     ]
    }
   ],
   "source": [
    "with g.as_default():\n",
    "    with tf.Session() as sess:\n",
    "        try:\n",
    "            v.eval()\n",
    "        except tf.errors.FailedPreconditionError as e:\n",
    "            print(\"Caught expected error\", e)"
   ]
  },
  {
   "cell_type": "code",
   "execution_count": 11,
   "metadata": {
    "collapsed": false
   },
   "outputs": [
    {
     "name": "stdout",
     "output_type": "stream",
     "text": [
      "[3]\n",
      "[ 0.97562224]\n"
     ]
    }
   ],
   "source": [
    "with g.as_default():\n",
    "    with tf.Session() as sess:\n",
    "        initialization = tf.global_variables_initializer()\n",
    "        sess.run(initialization)\n",
    "        print(v.eval())\n",
    "        print(w.eval())"
   ]
  },
  {
   "cell_type": "code",
   "execution_count": 12,
   "metadata": {
    "collapsed": false
   },
   "outputs": [
    {
     "name": "stdout",
     "output_type": "stream",
     "text": [
      "[ 0.44142216]\n",
      "[ 0.44142216]\n",
      "[ 0.44142216]\n"
     ]
    }
   ],
   "source": [
    "with g.as_default():\n",
    "    with tf.Session() as sess:\n",
    "        sess.run(tf.global_variables_initializer())\n",
    "        print(w.eval())\n",
    "        print(w.eval())\n",
    "        print(w.eval())"
   ]
  },
  {
   "cell_type": "code",
   "execution_count": 13,
   "metadata": {
    "collapsed": false
   },
   "outputs": [
    {
     "name": "stdout",
     "output_type": "stream",
     "text": [
      "[3]\n",
      "[3]\n",
      "[7]\n"
     ]
    }
   ],
   "source": [
    "with g.as_default():\n",
    "    with tf.Session() as sess:\n",
    "        sess.run(tf.global_variables_initializer())\n",
    "        \n",
    "        print(v.eval())\n",
    "        \n",
    "        assignment = tf.assign(v,[7])\n",
    "        print(v.eval())\n",
    "        \n",
    "        sess.run(assignment)\n",
    "        print(v.eval())"
   ]
  },
  {
   "cell_type": "code",
   "execution_count": null,
   "metadata": {
    "collapsed": false
   },
   "outputs": [],
   "source": []
  }
 ],
 "metadata": {
  "kernelspec": {
   "display_name": "Python 3",
   "language": "python",
   "name": "python3"
  },
  "language_info": {
   "codemirror_mode": {
    "name": "ipython",
    "version": 3
   },
   "file_extension": ".py",
   "mimetype": "text/x-python",
   "name": "python",
   "nbconvert_exporter": "python",
   "pygments_lexer": "ipython3",
   "version": "3.5.1"
  }
 },
 "nbformat": 4,
 "nbformat_minor": 0
}
